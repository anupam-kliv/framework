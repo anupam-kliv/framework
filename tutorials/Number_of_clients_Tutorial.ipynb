{
 "cells": [
  {
   "cell_type": "markdown",
   "metadata": {},
   "source": [
    "# Import Libraries"
   ]
  },
  {
   "cell_type": "code",
   "execution_count": 1,
   "metadata": {},
   "outputs": [],
   "source": [
    "import sys\n",
    "import os\n",
    "from torch import multiprocessing\n",
    "import time\n",
    "sys.path.append(os.path.dirname(os.getcwd())) \n",
    "from server.src.server import server_start\n",
    "from server.src.server_lib import save_intial_model\n",
    "from client.src.client import client_start"
   ]
  },
  {
   "cell_type": "markdown",
   "metadata": {},
   "source": [
    "# Setup the configuration file"
   ]
  },
  {
   "cell_type": "markdown",
   "metadata": {},
   "source": [
    "1. Number of clients indicated the minimum amount of clients needed to start the process\n",
    "2. Update the number as how many clients initially need to be included\n",
    "3. Here number of clients 2"
   ]
  },
  {
   "cell_type": "code",
   "execution_count": 2,
   "metadata": {},
   "outputs": [],
   "source": [
    "configs ={\n",
    "    \"algorithm\":\"fedavg\",\n",
    "    \"num_of_clients\":2,\n",
    "    \"fraction_of_clients\":1,\n",
    "    \"num_of_rounds\":1,\n",
    "    \"initial_model_path\":\"initial_model.pt\",\n",
    "    \"epochs\":1,\n",
    "    \"accept_conn_after_FL_begin\":1 ,\n",
    "    \"verify\": 0,\n",
    "    \"verification_threshold\": 0,\n",
    "    \"timeout\": None,\n",
    "    \"resize_size\": 32,\n",
    "    \"batch_size\": 32,\n",
    "    \"net\": \"LeNet\",\n",
    "    \"dataset\": \"MNIST\",\n",
    "    #\"device\": \"cpu\",\n",
    "    \"niid\": 2,\n",
    "    \"carbon\": 0\n",
    "}"
   ]
  },
  {
   "cell_type": "markdown",
   "metadata": {},
   "source": [
    "# Start the server\n",
    "1. Uncomment the multiprocessing line if you are using it on windows platform\n",
    "2. Output will be shown as the client part starts"
   ]
  },
  {
   "cell_type": "code",
   "execution_count": 3,
   "metadata": {},
   "outputs": [
    {
     "name": "stdout",
     "output_type": "stream",
     "text": [
      "\n",
      "Server Running\n",
      "Client ipv4:127.0.0.1:46254 connected.\n",
      "Client ipv4:127.0.0.1:46266 connected.\n",
      "\n",
      "Communication round 1/1 is starting with 2/2 client(s).\n"
     ]
    }
   ],
   "source": [
    "save_intial_model(configs)\n",
    "#multiprocessing.set_start_method('spawn', force=False)\n",
    "server = multiprocessing.Process(target=server_start, args=(configs,))\n",
    "server.start()\n",
    "time.sleep(5)"
   ]
  },
  {
   "cell_type": "markdown",
   "metadata": {},
   "source": [
    "# Start the client"
   ]
  },
  {
   "cell_type": "code",
   "execution_count": null,
   "metadata": {},
   "outputs": [],
   "source": [
    "no_of_clients = 4\n",
    "clients = []\n",
    "for i in range(no_of_clients):\n",
    "    client = multiprocessing.Process(target=client_start)\n",
    "    clients.append(client)\n",
    "    client.start()\n",
    "    time.sleep(2)\n",
    "for i in range(no_of_clients):\n",
    "    clients[i].join()\n",
    "server.join()"
   ]
  },
  {
   "cell_type": "markdown",
   "metadata": {},
   "source": [
    "# 2. This is shown Number of clients =3"
   ]
  },
  {
   "cell_type": "code",
   "execution_count": 3,
   "metadata": {},
   "outputs": [],
   "source": [
    "configs ={\n",
    "    \"algorithm\":\"fedadagrad\",\n",
    "    \"num_of_clients\":4,\n",
    "    \"fraction_of_clients\":1,\n",
    "    \"num_of_rounds\":1,\n",
    "    \"initial_model_path\":\"initial_model.pt\",\n",
    "    \"epochs\":1,\n",
    "    \"accept_conn_after_FL_begin\":1 ,\n",
    "    \"verify\": 0,\n",
    "    \"verification_threshold\": 0,\n",
    "    \"timeout\": None,\n",
    "    \"resize_size\": 32,\n",
    "    \"batch_size\": 32,\n",
    "    \"net\": \"LeNet\",\n",
    "    \"dataset\": \"MNIST\",\n",
    "    #\"device\": \"cpu\",\n",
    "    \"niid\": 2,\n",
    "    \"carbon\": 0\n",
    "}"
   ]
  },
  {
   "cell_type": "markdown",
   "metadata": {},
   "source": [
    "# Start the server and client\n",
    "1. Uncomment the multiprocessing line if you are using it on windows platform"
   ]
  },
  {
   "cell_type": "code",
   "execution_count": null,
   "metadata": {},
   "outputs": [],
   "source": [
    "save_intial_model(configs)\n",
    "#multiprocessing.set_start_method('spawn', force=False)\n",
    "server = multiprocessing.Process(target=server_start, args=(configs,))\n",
    "server.start()\n",
    "time.sleep(5)\n",
    "no_of_clients = 2\n",
    "clients = []\n",
    "for i in range(no_of_clients):\n",
    "    client = multiprocessing.Process(target=client_start)\n",
    "    clients.append(client)\n",
    "    client.start()\n",
    "    time.sleep(2)\n",
    "for i in range(no_of_clients):\n",
    "    clients[i].join()\n",
    "server.join()"
   ]
  },
  {
   "cell_type": "markdown",
   "metadata": {},
   "source": [
    "# 3. This is shown for number of clients =5\n"
   ]
  },
  {
   "cell_type": "code",
   "execution_count": 2,
   "metadata": {},
   "outputs": [],
   "source": [
    "configs ={\n",
    "    \"algorithm\":\"fedadam\",\n",
    "    \"num_of_clients\":2,\n",
    "    \"fraction_of_clients\":1,\n",
    "    \"num_of_rounds\":1,\n",
    "    \"initial_model_path\":\"initial_model.pt\",\n",
    "    \"epochs\":2,\n",
    "    \"accept_conn_after_FL_begin\":1 ,\n",
    "    \"verify\": 0,\n",
    "    \"verification_threshold\": 0,\n",
    "    \"timeout\": None,\n",
    "    \"resize_size\": 32,\n",
    "    \"batch_size\": 32,\n",
    "    \"net\": \"LeNet\",\n",
    "    \"dataset\": \"MNIST\",\n",
    "    #\"device\": \"cpu\",\n",
    "    \"niid\": 2,\n",
    "    \"carbon\": 0\n",
    "}"
   ]
  },
  {
   "cell_type": "markdown",
   "metadata": {},
   "source": [
    "# Start the server and client\n",
    "1. Uncomment the multiprocessing line if you are using it on windows platform"
   ]
  },
  {
   "cell_type": "code",
   "execution_count": null,
   "metadata": {},
   "outputs": [],
   "source": [
    "save_intial_model(configs)\n",
    "#multiprocessing.set_start_method('spawn', force=False)\n",
    "server = multiprocessing.Process(target=server_start, args=(configs,))\n",
    "server.start()\n",
    "time.sleep(5)\n",
    "no_of_clients = 2\n",
    "clients = []\n",
    "for i in range(no_of_clients):\n",
    "    client = multiprocessing.Process(target=client_start)\n",
    "    clients.append(client)\n",
    "    client.start()\n",
    "    time.sleep(2)\n",
    "for i in range(no_of_clients):\n",
    "    clients[i].join()\n",
    "server.join()"
   ]
  }
 ],
 "metadata": {
  "kernelspec": {
   "display_name": "Python 3 (ipykernel)",
   "language": "python",
   "name": "python3"
  },
  "language_info": {
   "codemirror_mode": {
    "name": "ipython",
    "version": 3
   },
   "file_extension": ".py",
   "mimetype": "text/x-python",
   "name": "python",
   "nbconvert_exporter": "python",
   "pygments_lexer": "ipython3",
   "version": "3.6.13"
  }
 },
 "nbformat": 4,
 "nbformat_minor": 2
}
