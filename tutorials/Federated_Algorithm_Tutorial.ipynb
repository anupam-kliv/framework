{
 "cells": [
  {
   "cell_type": "markdown",
   "metadata": {},
   "source": [
    "# Import Libraries"
   ]
  },
  {
   "cell_type": "code",
   "execution_count": 1,
   "metadata": {},
   "outputs": [],
   "source": [
    "import sys\n",
    "import os\n",
    "from torch import multiprocessing\n",
    "import time\n",
    "sys.path.append(os.path.dirname(os.getcwd())) \n",
    "from server.src.server import server_start\n",
    "from server.src.server_lib import save_intial_model\n",
    "from client.src.client import client_start"
   ]
  },
  {
   "cell_type": "markdown",
   "metadata": {},
   "source": [
    "# Setup the configuration file"
   ]
  },
  {
   "cell_type": "markdown",
   "metadata": {},
   "source": [
    "1. Choose the \"name\" of the algorithm in \"algorithms\" in configs.\n",
    "2. There are total 9 different federated learning algorithms pre-implemented\n",
    "3. Number of clients indicated the minimum amount of clients needed to start the process"
   ]
  },
  {
   "cell_type": "markdown",
   "metadata": {},
   "source": [
    "# 1. This is shown for Federated Averaging"
   ]
  },
  {
   "cell_type": "code",
   "execution_count": 2,
   "metadata": {},
   "outputs": [],
   "source": [
    "configs ={\n",
    "    \"algorithm\":\"fedavg\",\n",
    "    \"num_of_clients\":2,\n",
    "    \"fraction_of_clients\":1,\n",
    "    \"num_of_rounds\":1,\n",
    "    \"initial_model_path\":\"initial_model.pt\",\n",
    "    \"epochs\":1,\n",
    "    \"accept_conn_after_FL_begin\":1 ,\n",
    "    \"verify\": 0,\n",
    "    \"verification_threshold\": 0,\n",
    "    \"timeout\": None,\n",
    "    \"resize_size\": 32,\n",
    "    \"batch_size\": 32,\n",
    "    \"net\": \"LeNet\",\n",
    "    \"dataset\": \"MNIST\",\n",
    "    #\"device\": \"cpu\",\n",
    "    \"niid\": 2,\n",
    "    \"carbon\": 0\n",
    "}"
   ]
  },
  {
   "cell_type": "markdown",
   "metadata": {},
   "source": [
    "# Start the server\n",
    "1. Uncomment the multiprocessing line if you are using it on windows platform\n",
    "2. Output will be shown as the client part starts"
   ]
  },
  {
   "cell_type": "code",
   "execution_count": 3,
   "metadata": {},
   "outputs": [
    {
     "name": "stdout",
     "output_type": "stream",
     "text": [
      "\n",
      "Server Running\n",
      "Client ipv4:127.0.0.1:42074 connected.\n",
      "Client ipv4:127.0.0.1:42090 connected.\n",
      "\n",
      "Communication round 1/1 is starting with 2/2 client(s).\n",
      "Client ipv4:127.0.0.1:42090 has disconnected. Now 1 clients remain active.\n",
      "Client ipv4:127.0.0.1:42074 has disconnected. Now 0 clients remain active.\n"
     ]
    },
    {
     "name": "stderr",
     "output_type": "stream",
     "text": [
      "Process Process-1:\n",
      "KeyboardInterrupt\n",
      "Traceback (most recent call last):\n",
      "  File \"/home/deepsip1/anaconda3/envs/anupam/lib/python3.6/multiprocessing/process.py\", line 258, in _bootstrap\n",
      "    self.run()\n",
      "  File \"/home/deepsip1/anaconda3/envs/anupam/lib/python3.6/multiprocessing/process.py\", line 93, in run\n",
      "    self._target(*self._args, **self._kwargs)\n",
      "  File \"/home/deepsip1/anupam/Framework/Github_25/fl_framework_initial-main/server/src/server.py\", line 138, in server_start\n",
      "    server_runner_thread.join()\n",
      "  File \"/home/deepsip1/anaconda3/envs/anupam/lib/python3.6/threading.py\", line 1056, in join\n",
      "    self._wait_for_tstate_lock()\n",
      "  File \"/home/deepsip1/anaconda3/envs/anupam/lib/python3.6/threading.py\", line 1072, in _wait_for_tstate_lock\n",
      "    elif lock.acquire(block, timeout):\n"
     ]
    }
   ],
   "source": [
    "save_intial_model(configs)\n",
    "#multiprocessing.set_start_method('spawn', force=False)\n",
    "server = multiprocessing.Process(target=server_start, args=(configs,))\n",
    "server.start()\n",
    "time.sleep(5)"
   ]
  },
  {
   "cell_type": "markdown",
   "metadata": {},
   "source": [
    "# Start the client"
   ]
  },
  {
   "cell_type": "code",
   "execution_count": 4,
   "metadata": {},
   "outputs": [
    {
     "name": "stdout",
     "output_type": "stream",
     "text": [
      "Connected with server\n",
      "Connected with server\n"
     ]
    },
    {
     "ename": "KeyboardInterrupt",
     "evalue": "",
     "output_type": "error",
     "traceback": [
      "\u001b[0;31m---------------------------------------------------------------------------\u001b[0m",
      "\u001b[0;31mKeyboardInterrupt\u001b[0m                         Traceback (most recent call last)",
      "\u001b[0;32m<ipython-input-4-2db04183842c>\u001b[0m in \u001b[0;36m<module>\u001b[0;34m\u001b[0m\n\u001b[1;32m      8\u001b[0m \u001b[0;32mfor\u001b[0m \u001b[0mi\u001b[0m \u001b[0;32min\u001b[0m \u001b[0mrange\u001b[0m\u001b[0;34m(\u001b[0m\u001b[0mno_of_clients\u001b[0m\u001b[0;34m)\u001b[0m\u001b[0;34m:\u001b[0m\u001b[0;34m\u001b[0m\u001b[0;34m\u001b[0m\u001b[0m\n\u001b[1;32m      9\u001b[0m     \u001b[0mclients\u001b[0m\u001b[0;34m[\u001b[0m\u001b[0mi\u001b[0m\u001b[0;34m]\u001b[0m\u001b[0;34m.\u001b[0m\u001b[0mjoin\u001b[0m\u001b[0;34m(\u001b[0m\u001b[0;34m)\u001b[0m\u001b[0;34m\u001b[0m\u001b[0;34m\u001b[0m\u001b[0m\n\u001b[0;32m---> 10\u001b[0;31m \u001b[0mserver\u001b[0m\u001b[0;34m.\u001b[0m\u001b[0mjoin\u001b[0m\u001b[0;34m(\u001b[0m\u001b[0;34m)\u001b[0m\u001b[0;34m\u001b[0m\u001b[0;34m\u001b[0m\u001b[0m\n\u001b[0m",
      "\u001b[0;32m~/anaconda3/envs/anupam/lib/python3.6/multiprocessing/process.py\u001b[0m in \u001b[0;36mjoin\u001b[0;34m(self, timeout)\u001b[0m\n\u001b[1;32m    122\u001b[0m         \u001b[0;32massert\u001b[0m \u001b[0mself\u001b[0m\u001b[0;34m.\u001b[0m\u001b[0m_parent_pid\u001b[0m \u001b[0;34m==\u001b[0m \u001b[0mos\u001b[0m\u001b[0;34m.\u001b[0m\u001b[0mgetpid\u001b[0m\u001b[0;34m(\u001b[0m\u001b[0;34m)\u001b[0m\u001b[0;34m,\u001b[0m \u001b[0;34m'can only join a child process'\u001b[0m\u001b[0;34m\u001b[0m\u001b[0;34m\u001b[0m\u001b[0m\n\u001b[1;32m    123\u001b[0m         \u001b[0;32massert\u001b[0m \u001b[0mself\u001b[0m\u001b[0;34m.\u001b[0m\u001b[0m_popen\u001b[0m \u001b[0;32mis\u001b[0m \u001b[0;32mnot\u001b[0m \u001b[0;32mNone\u001b[0m\u001b[0;34m,\u001b[0m \u001b[0;34m'can only join a started process'\u001b[0m\u001b[0;34m\u001b[0m\u001b[0;34m\u001b[0m\u001b[0m\n\u001b[0;32m--> 124\u001b[0;31m         \u001b[0mres\u001b[0m \u001b[0;34m=\u001b[0m \u001b[0mself\u001b[0m\u001b[0;34m.\u001b[0m\u001b[0m_popen\u001b[0m\u001b[0;34m.\u001b[0m\u001b[0mwait\u001b[0m\u001b[0;34m(\u001b[0m\u001b[0mtimeout\u001b[0m\u001b[0;34m)\u001b[0m\u001b[0;34m\u001b[0m\u001b[0;34m\u001b[0m\u001b[0m\n\u001b[0m\u001b[1;32m    125\u001b[0m         \u001b[0;32mif\u001b[0m \u001b[0mres\u001b[0m \u001b[0;32mis\u001b[0m \u001b[0;32mnot\u001b[0m \u001b[0;32mNone\u001b[0m\u001b[0;34m:\u001b[0m\u001b[0;34m\u001b[0m\u001b[0;34m\u001b[0m\u001b[0m\n\u001b[1;32m    126\u001b[0m             \u001b[0m_children\u001b[0m\u001b[0;34m.\u001b[0m\u001b[0mdiscard\u001b[0m\u001b[0;34m(\u001b[0m\u001b[0mself\u001b[0m\u001b[0;34m)\u001b[0m\u001b[0;34m\u001b[0m\u001b[0;34m\u001b[0m\u001b[0m\n",
      "\u001b[0;32m~/anaconda3/envs/anupam/lib/python3.6/multiprocessing/popen_fork.py\u001b[0m in \u001b[0;36mwait\u001b[0;34m(self, timeout)\u001b[0m\n\u001b[1;32m     48\u001b[0m                     \u001b[0;32mreturn\u001b[0m \u001b[0;32mNone\u001b[0m\u001b[0;34m\u001b[0m\u001b[0;34m\u001b[0m\u001b[0m\n\u001b[1;32m     49\u001b[0m             \u001b[0;31m# This shouldn't block if wait() returned successfully.\u001b[0m\u001b[0;34m\u001b[0m\u001b[0;34m\u001b[0m\u001b[0;34m\u001b[0m\u001b[0m\n\u001b[0;32m---> 50\u001b[0;31m             \u001b[0;32mreturn\u001b[0m \u001b[0mself\u001b[0m\u001b[0;34m.\u001b[0m\u001b[0mpoll\u001b[0m\u001b[0;34m(\u001b[0m\u001b[0mos\u001b[0m\u001b[0;34m.\u001b[0m\u001b[0mWNOHANG\u001b[0m \u001b[0;32mif\u001b[0m \u001b[0mtimeout\u001b[0m \u001b[0;34m==\u001b[0m \u001b[0;36m0.0\u001b[0m \u001b[0;32melse\u001b[0m \u001b[0;36m0\u001b[0m\u001b[0;34m)\u001b[0m\u001b[0;34m\u001b[0m\u001b[0;34m\u001b[0m\u001b[0m\n\u001b[0m\u001b[1;32m     51\u001b[0m         \u001b[0;32mreturn\u001b[0m \u001b[0mself\u001b[0m\u001b[0;34m.\u001b[0m\u001b[0mreturncode\u001b[0m\u001b[0;34m\u001b[0m\u001b[0;34m\u001b[0m\u001b[0m\n\u001b[1;32m     52\u001b[0m \u001b[0;34m\u001b[0m\u001b[0m\n",
      "\u001b[0;32m~/anaconda3/envs/anupam/lib/python3.6/multiprocessing/popen_fork.py\u001b[0m in \u001b[0;36mpoll\u001b[0;34m(self, flag)\u001b[0m\n\u001b[1;32m     26\u001b[0m             \u001b[0;32mwhile\u001b[0m \u001b[0;32mTrue\u001b[0m\u001b[0;34m:\u001b[0m\u001b[0;34m\u001b[0m\u001b[0;34m\u001b[0m\u001b[0m\n\u001b[1;32m     27\u001b[0m                 \u001b[0;32mtry\u001b[0m\u001b[0;34m:\u001b[0m\u001b[0;34m\u001b[0m\u001b[0;34m\u001b[0m\u001b[0m\n\u001b[0;32m---> 28\u001b[0;31m                     \u001b[0mpid\u001b[0m\u001b[0;34m,\u001b[0m \u001b[0msts\u001b[0m \u001b[0;34m=\u001b[0m \u001b[0mos\u001b[0m\u001b[0;34m.\u001b[0m\u001b[0mwaitpid\u001b[0m\u001b[0;34m(\u001b[0m\u001b[0mself\u001b[0m\u001b[0;34m.\u001b[0m\u001b[0mpid\u001b[0m\u001b[0;34m,\u001b[0m \u001b[0mflag\u001b[0m\u001b[0;34m)\u001b[0m\u001b[0;34m\u001b[0m\u001b[0;34m\u001b[0m\u001b[0m\n\u001b[0m\u001b[1;32m     29\u001b[0m                 \u001b[0;32mexcept\u001b[0m \u001b[0mOSError\u001b[0m \u001b[0;32mas\u001b[0m \u001b[0me\u001b[0m\u001b[0;34m:\u001b[0m\u001b[0;34m\u001b[0m\u001b[0;34m\u001b[0m\u001b[0m\n\u001b[1;32m     30\u001b[0m                     \u001b[0;31m# Child process not yet created. See #1731717\u001b[0m\u001b[0;34m\u001b[0m\u001b[0;34m\u001b[0m\u001b[0;34m\u001b[0m\u001b[0m\n",
      "\u001b[0;31mKeyboardInterrupt\u001b[0m: "
     ]
    }
   ],
   "source": [
    "no_of_clients = 2\n",
    "clients = []\n",
    "for i in range(no_of_clients):\n",
    "    client = multiprocessing.Process(target=client_start)\n",
    "    clients.append(client)\n",
    "    client.start()\n",
    "    time.sleep(2)\n",
    "for i in range(no_of_clients):\n",
    "    clients[i].join()\n",
    "server.join()"
   ]
  },
  {
   "cell_type": "markdown",
   "metadata": {},
   "source": [
    "# 2. This is shown for Fed Adagrad"
   ]
  },
  {
   "cell_type": "code",
   "execution_count": 3,
   "metadata": {},
   "outputs": [],
   "source": [
    "configs ={\n",
    "    \"algorithm\":\"fedadagrad\",\n",
    "    \"num_of_clients\":2,\n",
    "    \"fraction_of_clients\":1,\n",
    "    \"num_of_rounds\":1,\n",
    "    \"initial_model_path\":\"initial_model.pt\",\n",
    "    \"epochs\":1,\n",
    "    \"accept_conn_after_FL_begin\":1 ,\n",
    "    \"verify\": 0,\n",
    "    \"verification_threshold\": 0,\n",
    "    \"timeout\": None,\n",
    "    \"resize_size\": 32,\n",
    "    \"batch_size\": 32,\n",
    "    \"net\": \"LeNet\",\n",
    "    \"dataset\": \"MNIST\",\n",
    "    #\"device\": \"cpu\",\n",
    "    \"niid\": 2,\n",
    "    \"carbon\": 0\n",
    "}"
   ]
  },
  {
   "cell_type": "markdown",
   "metadata": {},
   "source": [
    "# Start the server and client\n",
    "1. Uncomment the multiprocessing line if you are using it on windows platform"
   ]
  },
  {
   "cell_type": "code",
   "execution_count": null,
   "metadata": {},
   "outputs": [],
   "source": [
    "save_intial_model(configs)\n",
    "#multiprocessing.set_start_method('spawn', force=False)\n",
    "server = multiprocessing.Process(target=server_start, args=(configs,))\n",
    "server.start()\n",
    "time.sleep(5)\n",
    "no_of_clients = 2\n",
    "clients = []\n",
    "for i in range(no_of_clients):\n",
    "    client = multiprocessing.Process(target=client_start)\n",
    "    clients.append(client)\n",
    "    client.start()\n",
    "    time.sleep(2)\n",
    "for i in range(no_of_clients):\n",
    "    clients[i].join()\n",
    "server.join()"
   ]
  },
  {
   "cell_type": "markdown",
   "metadata": {},
   "source": [
    "# 3. This is shown for Fed Adam\n",
    "1. Use algorithm =\"fedadam\"\n",
    "2. Number of epochs can also be changed through \"epochs\". Here Epochs= 2 is used"
   ]
  },
  {
   "cell_type": "code",
   "execution_count": 2,
   "metadata": {},
   "outputs": [],
   "source": [
    "configs ={\n",
    "    \"algorithm\":\"fedadam\",\n",
    "    \"num_of_clients\":2,\n",
    "    \"fraction_of_clients\":1,\n",
    "    \"num_of_rounds\":1,\n",
    "    \"initial_model_path\":\"initial_model.pt\",\n",
    "    \"epochs\":2,\n",
    "    \"accept_conn_after_FL_begin\":1 ,\n",
    "    \"verify\": 0,\n",
    "    \"verification_threshold\": 0,\n",
    "    \"timeout\": None,\n",
    "    \"resize_size\": 32,\n",
    "    \"batch_size\": 32,\n",
    "    \"net\": \"LeNet\",\n",
    "    \"dataset\": \"MNIST\",\n",
    "    #\"device\": \"cpu\",\n",
    "    \"niid\": 2,\n",
    "    \"carbon\": 0\n",
    "}"
   ]
  },
  {
   "cell_type": "markdown",
   "metadata": {},
   "source": [
    "# Start the server and client\n",
    "1. Uncomment the multiprocessing line if you are using it on windows platform"
   ]
  },
  {
   "cell_type": "code",
   "execution_count": null,
   "metadata": {},
   "outputs": [],
   "source": [
    "save_intial_model(configs)\n",
    "#multiprocessing.set_start_method('spawn', force=False)\n",
    "server = multiprocessing.Process(target=server_start, args=(configs,))\n",
    "server.start()\n",
    "time.sleep(5)\n",
    "no_of_clients = 2\n",
    "clients = []\n",
    "for i in range(no_of_clients):\n",
    "    client = multiprocessing.Process(target=client_start)\n",
    "    clients.append(client)\n",
    "    client.start()\n",
    "    time.sleep(2)\n",
    "for i in range(no_of_clients):\n",
    "    clients[i].join()\n",
    "server.join()"
   ]
  }
 ],
 "metadata": {
  "kernelspec": {
   "display_name": "Python 3 (ipykernel)",
   "language": "python",
   "name": "python3"
  },
  "language_info": {
   "codemirror_mode": {
    "name": "ipython",
    "version": 3
   },
   "file_extension": ".py",
   "mimetype": "text/x-python",
   "name": "python",
   "nbconvert_exporter": "python",
   "pygments_lexer": "ipython3",
   "version": "3.6.13"
  }
 },
 "nbformat": 4,
 "nbformat_minor": 2
}
